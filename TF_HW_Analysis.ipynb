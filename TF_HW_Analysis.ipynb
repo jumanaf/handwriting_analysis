{
  "nbformat": 4,
  "nbformat_minor": 0,
  "metadata": {
    "colab": {
      "name": "TF-HW-Analysis.ipynb",
      "provenance": [],
      "toc_visible": true
    },
    "kernelspec": {
      "name": "python3",
      "display_name": "Python 3"
    }
  },
  "cells": [
    {
      "cell_type": "markdown",
      "metadata": {
        "id": "u0iVW8pUvJ77",
        "colab_type": "text"
      },
      "source": [
        "# Version 1 of Implementation: Using Tensorflow\n",
        "\n",
        "To first train and run the model on a relatively easy neural network, I'll be using TensorFlow. This provides me with a starting point, whereby I can reach the goals outlined for the first version of this project. \n",
        "\n",
        "I will run the handwriting data on a basic implementation of a TensorFlow neural network, assess the success metrics that I've outlined in the issue titled \"Version 1\", and aim to implement more complex models in future versions."
      ]
    },
    {
      "cell_type": "markdown",
      "metadata": {
        "id": "3FAjdrVMvN9K",
        "colab_type": "text"
      },
      "source": [
        "**Import Statements**"
      ]
    },
    {
      "cell_type": "code",
      "metadata": {
        "id": "u6qn8ZAGvA9w",
        "colab_type": "code",
        "colab": {}
      },
      "source": [
        "import tensorflow as tf\n",
        "import pandas as pd\n",
        "import numpy as np\n",
        "import matplotlib.pyplot as plt\n",
        "import os\n",
        "import PIL\n",
        "import PIL.Image"
      ],
      "execution_count": 1,
      "outputs": []
    },
    {
      "cell_type": "markdown",
      "metadata": {
        "id": "YT_UCOYzvTpO",
        "colab_type": "text"
      },
      "source": [
        "**Data Preperation**\n",
        "\n",
        "I'm starting off this notebook by loading, cleaning, and labelling handwriting data from the Hands PD (linked in the README file in this repository)."
      ]
    },
    {
      "cell_type": "code",
      "metadata": {
        "id": "HsPQE7xsvW_t",
        "colab_type": "code",
        "colab": {
          "base_uri": "https://localhost:8080/",
          "height": 34
        },
        "outputId": "85f76364-1fd2-44ab-b50d-167d90f400ec"
      },
      "source": [
        "from google.colab import drive\n",
        "drive.mount('/content/drive')"
      ],
      "execution_count": 2,
      "outputs": [
        {
          "output_type": "stream",
          "text": [
            "Mounted at /content/drive\n"
          ],
          "name": "stdout"
        }
      ]
    },
    {
      "cell_type": "code",
      "metadata": {
        "id": "Chi1TdFcvpRu",
        "colab_type": "code",
        "colab": {
          "base_uri": "https://localhost:8080/",
          "height": 51
        },
        "outputId": "b2e6ebf2-e6e7-4da7-b027-3598e2f7f1a8"
      },
      "source": [
        "train_dataset = tf.keras.preprocessing.image_dataset_from_directory(\"/content/drive/My Drive/Spiral_HandPD\", labels='inferred', label_mode='int',\n",
        "    color_mode='grayscale', image_size = (256, 256), shuffle = True, \n",
        "    validation_split=0.2,\n",
        "    subset=\"training\", seed = 123)"
      ],
      "execution_count": 6,
      "outputs": [
        {
          "output_type": "stream",
          "text": [
            "Found 368 files belonging to 2 classes.\n",
            "Using 295 files for training.\n"
          ],
          "name": "stdout"
        }
      ]
    },
    {
      "cell_type": "code",
      "metadata": {
        "id": "WNQxuxFcyWWp",
        "colab_type": "code",
        "colab": {
          "base_uri": "https://localhost:8080/",
          "height": 51
        },
        "outputId": "300a5bac-546d-4f23-ea91-3e1b13214ecb"
      },
      "source": [
        "validation_dataset = tf.keras.preprocessing.image_dataset_from_directory(\"/content/drive/My Drive/Spiral_HandPD\", labels='inferred', label_mode='int',\n",
        "    color_mode='grayscale', image_size = (256, 256), shuffle = True, \n",
        "    validation_split=0.2,\n",
        "    subset=\"validation\", seed = 123)"
      ],
      "execution_count": 8,
      "outputs": [
        {
          "output_type": "stream",
          "text": [
            "Found 368 files belonging to 2 classes.\n",
            "Using 73 files for validation.\n"
          ],
          "name": "stdout"
        }
      ]
    }
  ]
}